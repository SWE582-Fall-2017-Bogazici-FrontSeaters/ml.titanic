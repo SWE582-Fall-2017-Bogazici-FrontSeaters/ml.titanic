{
 "cells": [
  {
   "cell_type": "markdown",
   "metadata": {},
   "source": [
    "# Preprocessing for:\n",
    "* categorizing string values\n",
    "* filling the missing fields with mean values"
   ]
  },
  {
   "cell_type": "code",
   "execution_count": 1,
   "metadata": {
    "collapsed": true
   },
   "outputs": [],
   "source": [
    "%matplotlib inline\n",
    "\n",
    "import numpy as np\n",
    "import pandas as pd\n",
    "import matplotlib\n",
    "import matplotlib.pyplot as plt\n",
    "import scipy.stats as stats\n",
    "\n",
    "test = pd.read_csv('/Users/firat/Development/Machine Learning/ml.titanic/test.csv', header=0)\n",
    "train = pd.read_csv('/Users/firat/Development/Machine Learning/ml.titanic/train.csv', header=0)\n",
    "\n",
    "# Convert cabin literals to string, \n",
    "# then take first letter from each one of them, \n",
    "# then put it back to dataset\n",
    "cabinAsString = train[\"Cabin\"].astype(str)\n",
    "tempCabin = np.array([cabin[0] for cabin in cabinAsString])\n",
    "train[\"Cabin\"] = pd.Categorical(tempCabin)\n",
    "\n",
    "# Find mean age and put it to missing fields\n",
    "meanAge = np.around(np.mean(train[\"Age\"]))\n",
    "tempAge = np.where(train[\"Age\"].isnull(), meanAge, train[\"Age\"])\n",
    "train[\"Age\"] = tempAge"
   ]
  },
  {
   "cell_type": "code",
   "execution_count": 2,
   "metadata": {
    "scrolled": false
   },
   "outputs": [
    {
     "data": {
      "image/png": "[encoded data removed]",
      "text/plain": [
       "<matplotlib.figure.Figure at 0x108483128>"
      ]
     },
     "metadata": {},
     "output_type": "display_data"
    },
    {
     "name": "stdout",
     "output_type": "stream",
     "text": [
      "count    891.000000\n",
      "mean      32.204208\n",
      "std       49.693429\n",
      "min        0.000000\n",
      "25%        7.910400\n",
      "50%       14.454200\n",
      "75%       31.000000\n",
      "max      512.329200\n",
      "Name: Fare, dtype: float64\n"
     ]
    }
   ],
   "source": [
    "from scipy.stats import norm\n",
    "data = train[\"Fare\"]\n",
    "mu, std = norm.fit(data)\n",
    "\n",
    "plt.hist(data, bins=50, normed=True, alpha=0.6, color='r')\n",
    "\n",
    "xmin, xmax = plt.xlim()\n",
    "x = np.linspace(xmin, xmax, 100)\n",
    "p = norm.pdf(x, mu, std)\n",
    "plt.plot(x, p, 'k', linewidth=2)\n",
    "title = \"Fit results: mean = %.2f,  std = %.2f\" % (mu, std)\n",
    "plt.title(title)\n",
    "\n",
    "plt.show()\n",
    "print(data.describe())"
   ]
  },
  {
   "cell_type": "code",
   "execution_count": 3,
   "metadata": {
    "collapsed": true
   },
   "outputs": [],
   "source": [
    "if train[\"Fare\"][0] != 0:\n",
    "    train['Fare'].fillna(train['Fare'].dropna().mode()[0], inplace=True)\n",
    "    fare = []\n",
    "    for i in train[\"Fare\"]:\n",
    "        if i <= 7.910400:\n",
    "            fare = np.append(fare,0)\n",
    "        elif i < 14.454200:\n",
    "            fare = np.append(fare,1)\n",
    "        elif i < 31.000000:\n",
    "            fare = np.append(fare,2)\n",
    "        else:\n",
    "            fare = np.append(fare,3)\n",
    "train[\"Fare\"] = fare = fare.astype(int)"
   ]
  },
  {
   "cell_type": "code",
   "execution_count": 4,
   "metadata": {},
   "outputs": [
    {
     "data": {
      "image/png": "[encoded data removed]",
      "text/plain": [
       "<matplotlib.figure.Figure at 0x108486c18>"
      ]
     },
     "metadata": {},
     "output_type": "display_data"
    },
    {
     "name": "stdout",
     "output_type": "stream",
     "text": [
      "count    891.000000\n",
      "mean      29.758889\n",
      "std       13.002570\n",
      "min        0.420000\n",
      "25%       22.000000\n",
      "50%       30.000000\n",
      "75%       35.000000\n",
      "max       80.000000\n",
      "Name: Age, dtype: float64\n"
     ]
    }
   ],
   "source": [
    "data = train[\"Age\"]\n",
    "mu, std = norm.fit(data)\n",
    "\n",
    "plt.hist(data, bins=50, normed=True, alpha=0.6, color='b')\n",
    "\n",
    "xmin, xmax = plt.xlim()\n",
    "x = np.linspace(xmin, xmax, 100)\n",
    "p = norm.pdf(x, mu, std)\n",
    "plt.plot(x, p, 'k', linewidth=2)\n",
    "title = \"Fit results: mean = %.2f,  std = %.2f\" % (mu, std)\n",
    "plt.title(title)\n",
    "\n",
    "plt.show()\n",
    "print(data.describe())"
   ]
  },
  {
   "cell_type": "code",
   "execution_count": 5,
   "metadata": {
    "collapsed": true
   },
   "outputs": [],
   "source": [
    "#if train[\"Age\"][0] != 0:\n",
    "#    train['Age'].fillna(train['Age'].dropna().mode()[0], inplace=True)\n",
    "#    age = []\n",
    "#    for i in train[\"Age\"]:\n",
    "#        if i <= 22.000000:\n",
    "#            age = np.append(age,0)\n",
    "#        elif i < 30.000000:\n",
    "#            age = np.append(age,1)\n",
    "#        elif i < 35.000000:\n",
    "#            age = np.append(age,2)\n",
    "#        else:\n",
    "#            age = np.append(age,3)\n",
    "#train[\"Age\"] = age = age.astype(int)"
   ]
  },
  {
   "cell_type": "markdown",
   "metadata": {},
   "source": [
    "Here we have two categorical and one continous variables, respectively Fare, Cabine and Age ."
   ]
  },
  {
   "cell_type": "code",
   "execution_count": 6,
   "metadata": {
    "collapsed": true
   },
   "outputs": [],
   "source": [
    "from sklearn import linear_model\n",
    "from sklearn import preprocessing"
   ]
  },
  {
   "cell_type": "code",
   "execution_count": 7,
   "metadata": {
    "collapsed": true
   },
   "outputs": [],
   "source": [
    "# Convert sex, embark and cabin literals to numbers\n",
    "le = preprocessing.LabelEncoder()\n",
    "sexEnc = le.fit_transform(train[\"Sex\"])\n",
    "train[\"Sex\"] = sexEnc\n",
    "\n",
    "embEnc = le.fit_transform(train[\"Embarked\"].astype(str))\n",
    "train[\"Embarked\"] = embEnc\n",
    "\n",
    "cabEnc = le.fit_transform(train[\"Cabin\"].astype(str))\n",
    "train[\"Cabin\"] = cabEnc"
   ]
  },
  {
   "cell_type": "markdown",
   "metadata": {},
   "source": [
    "We add two more categorical variable; Sex and Embarked. Apart from name and ticket number, our data is ready."
   ]
  },
  {
   "cell_type": "code",
   "execution_count": 8,
   "metadata": {},
   "outputs": [
    {
     "data": {
      "text/html": [
       "<div>\n",
       "<style>\n",
       "    .dataframe thead tr:only-child th {\n",
       "        text-align: right;\n",
       "    }\n",
       "\n",
       "    .dataframe thead th {\n",
       "        text-align: left;\n",
       "    }\n",
       "\n",
       "    .dataframe tbody tr th {\n",
       "        vertical-align: top;\n",
       "    }\n",
       "</style>\n",
       "<table border=\"1\" class=\"dataframe\">\n",
       "  <thead>\n",
       "    <tr style=\"text-align: right;\">\n",
       "      <th></th>\n",
       "      <th>PassengerId</th>\n",
       "      <th>Survived</th>\n",
       "      <th>Pclass</th>\n",
       "      <th>Name</th>\n",
       "      <th>Sex</th>\n",
       "      <th>Age</th>\n",
       "      <th>SibSp</th>\n",
       "      <th>Parch</th>\n",
       "      <th>Ticket</th>\n",
       "      <th>Fare</th>\n",
       "      <th>Cabin</th>\n",
       "      <th>Embarked</th>\n",
       "    </tr>\n",
       "  </thead>\n",
       "  <tbody>\n",
       "    <tr>\n",
       "      <th>0</th>\n",
       "      <td>1</td>\n",
       "      <td>0</td>\n",
       "      <td>3</td>\n",
       "      <td>Braund, Mr. Owen Harris</td>\n",
       "      <td>1</td>\n",
       "      <td>22.0</td>\n",
       "      <td>1</td>\n",
       "      <td>0</td>\n",
       "      <td>A/5 21171</td>\n",
       "      <td>0</td>\n",
       "      <td>8</td>\n",
       "      <td>2</td>\n",
       "    </tr>\n",
       "    <tr>\n",
       "      <th>1</th>\n",
       "      <td>2</td>\n",
       "      <td>1</td>\n",
       "      <td>1</td>\n",
       "      <td>Cumings, Mrs. John Bradley (Florence Briggs Th...</td>\n",
       "      <td>0</td>\n",
       "      <td>38.0</td>\n",
       "      <td>1</td>\n",
       "      <td>0</td>\n",
       "      <td>PC 17599</td>\n",
       "      <td>3</td>\n",
       "      <td>2</td>\n",
       "      <td>0</td>\n",
       "    </tr>\n",
       "    <tr>\n",
       "      <th>2</th>\n",
       "      <td>3</td>\n",
       "      <td>1</td>\n",
       "      <td>3</td>\n",
       "      <td>Heikkinen, Miss. Laina</td>\n",
       "      <td>0</td>\n",
       "      <td>26.0</td>\n",
       "      <td>0</td>\n",
       "      <td>0</td>\n",
       "      <td>STON/O2. 3101282</td>\n",
       "      <td>1</td>\n",
       "      <td>8</td>\n",
       "      <td>2</td>\n",
       "    </tr>\n",
       "    <tr>\n",
       "      <th>3</th>\n",
       "      <td>4</td>\n",
       "      <td>1</td>\n",
       "      <td>1</td>\n",
       "      <td>Futrelle, Mrs. Jacques Heath (Lily May Peel)</td>\n",
       "      <td>0</td>\n",
       "      <td>35.0</td>\n",
       "      <td>1</td>\n",
       "      <td>0</td>\n",
       "      <td>113803</td>\n",
       "      <td>3</td>\n",
       "      <td>2</td>\n",
       "      <td>2</td>\n",
       "    </tr>\n",
       "    <tr>\n",
       "      <th>4</th>\n",
       "      <td>5</td>\n",
       "      <td>0</td>\n",
       "      <td>3</td>\n",
       "      <td>Allen, Mr. William Henry</td>\n",
       "      <td>1</td>\n",
       "      <td>35.0</td>\n",
       "      <td>0</td>\n",
       "      <td>0</td>\n",
       "      <td>373450</td>\n",
       "      <td>1</td>\n",
       "      <td>8</td>\n",
       "      <td>2</td>\n",
       "    </tr>\n",
       "  </tbody>\n",
       "</table>\n",
       "</div>"
      ],
      "text/plain": [
       "   PassengerId  Survived  Pclass  \\\n",
       "0            1         0       3   \n",
       "1            2         1       1   \n",
       "2            3         1       3   \n",
       "3            4         1       1   \n",
       "4            5         0       3   \n",
       "\n",
       "                                                Name  Sex   Age  SibSp  Parch  \\\n",
       "0                            Braund, Mr. Owen Harris    1  22.0      1      0   \n",
       "1  Cumings, Mrs. John Bradley (Florence Briggs Th...    0  38.0      1      0   \n",
       "2                             Heikkinen, Miss. Laina    0  26.0      0      0   \n",
       "3       Futrelle, Mrs. Jacques Heath (Lily May Peel)    0  35.0      1      0   \n",
       "4                           Allen, Mr. William Henry    1  35.0      0      0   \n",
       "\n",
       "             Ticket  Fare  Cabin  Embarked  \n",
       "0         A/5 21171     0      8         2  \n",
       "1          PC 17599     3      2         0  \n",
       "2  STON/O2. 3101282     1      8         2  \n",
       "3            113803     3      2         2  \n",
       "4            373450     1      8         2  "
      ]
     },
     "execution_count": 8,
     "metadata": {},
     "output_type": "execute_result"
    }
   ],
   "source": [
    "train.head()"
   ]
  },
  {
   "cell_type": "markdown",
   "metadata": {},
   "source": [
    "We can use logistic model now for predicting survival based on: \n",
    "    + ticket class...| categorical\n",
    "    + age............| continous\n",
    "    + sex............| categorical\n",
    "    + fare...........| categorical\n",
    "    + cabin..........| categorical\n",
    "    + embarked.......| categorical"
   ]
  },
  {
   "cell_type": "markdown",
   "metadata": {},
   "source": [
    "### Gender vs Survival"
   ]
  },
  {
   "cell_type": "code",
   "execution_count": 9,
   "metadata": {},
   "outputs": [
    {
     "name": "stdout",
     "output_type": "stream",
     "text": [
      "[ 1.00027876]\n",
      "[[-2.43010712]]\n"
     ]
    }
   ],
   "source": [
    "lm = linear_model.LogisticRegression()\n",
    "lm.fit(X = pd.DataFrame(sexEnc), y = train[\"Survived\"])\n",
    "\n",
    "# Check trained model intercept\n",
    "print(lm.intercept_)\n",
    "\n",
    "# Check trained model coefficients\n",
    "print(lm.coef_)"
   ]
  },
  {
   "cell_type": "markdown",
   "metadata": {},
   "source": [
    "### Here we will use these literals in logistic regression function:\n",
    "    B0 = 1.00027876\n",
    "    B1 = -2.43010712\n",
    "\n",
    "<img src=\"log_reg_func.png\" width=\"240\" height=\"240\" align=\"left\"/>\n"
   ]
  },
  {
   "cell_type": "code",
   "execution_count": 10,
   "metadata": {},
   "outputs": [
    {
     "data": {
      "text/plain": [
       "[<matplotlib.lines.Line2D at 0x1a0d61f208>]"
      ]
     },
     "execution_count": 10,
     "metadata": {},
     "output_type": "execute_result"
    },
    {
     "data": {
      "image/png": "[encoded data removed]",
      "text/plain": [
       "<matplotlib.figure.Figure at 0x105a62128>"
      ]
     },
     "metadata": {},
     "output_type": "display_data"
    }
   ],
   "source": [
    "matplotlib.style.use('ggplot')\n",
    "plt.figure(figsize=(9,9))\n",
    "\n",
    "def sigmoid(t):\n",
    "    return (1/(1 + np.e**(-(1.00027876 + (-2.43010712*t)))))    \n",
    "\n",
    "plot_range = np.arange(-3, 4, 0.01)       \n",
    "\n",
    "y_values = sigmoid(plot_range)\n",
    "\n",
    "# Plot curve\n",
    "plt.plot(plot_range, y_values, color=\"red\")"
   ]
  },
  {
   "cell_type": "code",
   "execution_count": 11,
   "metadata": {},
   "outputs": [
    {
     "data": {
      "text/html": [
       "<div>\n",
       "<style>\n",
       "    .dataframe thead tr:only-child th {\n",
       "        text-align: right;\n",
       "    }\n",
       "\n",
       "    .dataframe thead th {\n",
       "        text-align: left;\n",
       "    }\n",
       "\n",
       "    .dataframe tbody tr th {\n",
       "        vertical-align: top;\n",
       "    }\n",
       "</style>\n",
       "<table border=\"1\" class=\"dataframe\">\n",
       "  <thead>\n",
       "    <tr style=\"text-align: right;\">\n",
       "      <th>Survival_prob</th>\n",
       "      <th>0.193125428972</th>\n",
       "      <th>0.731113382332</th>\n",
       "    </tr>\n",
       "    <tr>\n",
       "      <th>Sex</th>\n",
       "      <th></th>\n",
       "      <th></th>\n",
       "    </tr>\n",
       "  </thead>\n",
       "  <tbody>\n",
       "    <tr>\n",
       "      <th>0</th>\n",
       "      <td>0</td>\n",
       "      <td>314</td>\n",
       "    </tr>\n",
       "    <tr>\n",
       "      <th>1</th>\n",
       "      <td>577</td>\n",
       "      <td>0</td>\n",
       "    </tr>\n",
       "  </tbody>\n",
       "</table>\n",
       "</div>"
      ],
      "text/plain": [
       "Survival_prob  0.193125  0.731113\n",
       "Sex                              \n",
       "0                     0       314\n",
       "1                   577         0"
      ]
     },
     "execution_count": 11,
     "metadata": {},
     "output_type": "execute_result"
    }
   ],
   "source": [
    "preds = lm.predict_proba(X= pd.DataFrame(sexEnc))\n",
    "preds = pd.DataFrame(preds)\n",
    "preds.columns = [\"Death_prob\", \"Survival_prob\"]\n",
    "pd.crosstab(train[\"Sex\"], preds.loc[:, \"Survival_prob\"])"
   ]
  },
  {
   "cell_type": "markdown",
   "metadata": {},
   "source": [
    "Here, our model presents <b>73% of female survival</b> and <b>19% of male survival</b>. As a next step we can focus on age."
   ]
  },
  {
   "cell_type": "markdown",
   "metadata": {},
   "source": [
    "### Age vs Survival"
   ]
  },
  {
   "cell_type": "code",
   "execution_count": 12,
   "metadata": {},
   "outputs": [
    {
     "name": "stdout",
     "output_type": "stream",
     "text": [
      "[-0.1346343]\n",
      "[[-0.011447]]\n"
     ]
    }
   ],
   "source": [
    "lm.fit(X = pd.DataFrame(train[\"Age\"]), y = train[\"Survived\"])\n",
    "\n",
    "# Check trained model intercept\n",
    "print(lm.intercept_)\n",
    "\n",
    "# Check trained model coefficients\n",
    "print(lm.coef_)"
   ]
  },
  {
   "cell_type": "code",
   "execution_count": 13,
   "metadata": {},
   "outputs": [
    {
     "data": {
      "text/plain": [
       "[<matplotlib.lines.Line2D at 0x1a14cd3c88>]"
      ]
     },
     "execution_count": 13,
     "metadata": {},
     "output_type": "execute_result"
    },
    {
     "data": {
      "image/png": "[encoded data removed]",
      "text/plain": [
       "<matplotlib.figure.Figure at 0x104c35828>"
      ]
     },
     "metadata": {},
     "output_type": "display_data"
    }
   ],
   "source": [
    "matplotlib.style.use('ggplot')\n",
    "plt.figure(figsize=(9,9))\n",
    "\n",
    "def sigmoid(t):\n",
    "    return (1/(1 + np.e**(-(-0.1346343 + (-0.011447*t)))))    \n",
    "\n",
    "plot_range = np.arange(-300, 300, 0.1)       \n",
    "\n",
    "y_values = sigmoid(plot_range)\n",
    "\n",
    "# Plot curve\n",
    "plt.plot(plot_range, y_values, color=\"blue\")"
   ]
  },
  {
   "cell_type": "markdown",
   "metadata": {},
   "source": [
    "We can only see the function pattern when we expand our age range further than the dataset min and max values. To read the values we can focus on age boundaries of 0 and 80."
   ]
  },
  {
   "cell_type": "code",
   "execution_count": 14,
   "metadata": {},
   "outputs": [
    {
     "data": {
      "text/plain": [
       "[<matplotlib.lines.Line2D at 0x1a155ce320>]"
      ]
     },
     "execution_count": 14,
     "metadata": {},
     "output_type": "execute_result"
    },
    {
     "data": {
      "image/png": "[encoded data removed]",
      "text/plain": [
       "<matplotlib.figure.Figure at 0x1a14cee080>"
      ]
     },
     "metadata": {},
     "output_type": "display_data"
    }
   ],
   "source": [
    "matplotlib.style.use('ggplot')\n",
    "plt.figure(figsize=(9,9))\n",
    "\n",
    "def sigmoid(t):\n",
    "    return (1/(1 + np.e**(-(-0.1346343 + (-0.011447*t)))))    \n",
    "\n",
    "plot_range = np.arange(-5, 85, 0.1)       \n",
    "\n",
    "y_values = sigmoid(plot_range)\n",
    "\n",
    "# Plot curve\n",
    "plt.plot(plot_range, y_values, color=\"blue\")"
   ]
  },
  {
   "cell_type": "markdown",
   "metadata": {},
   "source": [
    "Here we can see that as you get older you are less likely to survive."
   ]
  },
  {
   "cell_type": "code",
   "execution_count": 27,
   "metadata": {},
   "outputs": [
    {
     "data": {
      "text/html": [
       "<div>\n",
       "<style>\n",
       "    .dataframe thead tr:only-child th {\n",
       "        text-align: right;\n",
       "    }\n",
       "\n",
       "    .dataframe thead th {\n",
       "        text-align: left;\n",
       "    }\n",
       "\n",
       "    .dataframe tbody tr th {\n",
       "        vertical-align: top;\n",
       "    }\n",
       "</style>\n",
       "<table border=\"1\" class=\"dataframe\">\n",
       "  <thead>\n",
       "    <tr style=\"text-align: right;\">\n",
       "      <th>Survived</th>\n",
       "      <th>0</th>\n",
       "      <th>1</th>\n",
       "    </tr>\n",
       "    <tr>\n",
       "      <th>row_0</th>\n",
       "      <th></th>\n",
       "      <th></th>\n",
       "    </tr>\n",
       "  </thead>\n",
       "  <tbody>\n",
       "    <tr>\n",
       "      <th>0</th>\n",
       "      <td>465</td>\n",
       "      <td>101</td>\n",
       "    </tr>\n",
       "    <tr>\n",
       "      <th>1</th>\n",
       "      <td>84</td>\n",
       "      <td>241</td>\n",
       "    </tr>\n",
       "  </tbody>\n",
       "</table>\n",
       "</div>"
      ],
      "text/plain": [
       "Survived    0    1\n",
       "row_0             \n",
       "0         465  101\n",
       "1          84  241"
      ]
     },
     "execution_count": 27,
     "metadata": {},
     "output_type": "execute_result"
    }
   ],
   "source": [
    "ageFeat = pd.DataFrame([train[\"Age\"]]).T\n",
    "age_lm = linear_model.LogisticRegression()\n",
    "age_lm.fit(X = ageFeat, y = train[\"Survived\"])\n",
    "pred = age_lm.predict(X = ageFeat)\n",
    "pd.crosstab(preds, train[\"Survived\"])"
   ]
  },
  {
   "cell_type": "code",
   "execution_count": 29,
   "metadata": {},
   "outputs": [
    {
     "name": "stdout",
     "output_type": "stream",
     "text": [
      "Our accurcy for Age is:  0.794151\n"
     ]
    }
   ],
   "source": [
    "acc = ((465+241)/889)\n",
    "print(\"Our accurcy for Age is:  %.6f\" % (acc))"
   ]
  },
  {
   "cell_type": "markdown",
   "metadata": {},
   "source": [
    "Now let's make combined parameter prediction."
   ]
  },
  {
   "cell_type": "markdown",
   "metadata": {},
   "source": [
    "### (Age and Gender) vs Survival"
   ]
  },
  {
   "cell_type": "code",
   "execution_count": 17,
   "metadata": {},
   "outputs": [
    {
     "name": "stdout",
     "output_type": "stream",
     "text": [
      "B0 coefficient is: 1.122802\n",
      "B1 coefficient is: -2.418352\n",
      "B2 coefficient is: -0.004416\n"
     ]
    }
   ],
   "source": [
    "ageAndSexFeatures = pd.DataFrame([sexEnc, train[\"Age\"]]).T\n",
    "lm_sexAndAge = linear_model.LogisticRegression()\n",
    "lm_sexAndAge.fit(X = ageAndSexFeatures, y = train[\"Survived\"])\n",
    "\n",
    "# Check trained model intercept\n",
    "print(\"B0 coefficient is: %.6f\" % lm_sexAndAge.intercept_)\n",
    "\n",
    "# Check trained model coefficients\n",
    "print(\"B1 coefficient is: %.6f\" % lm_sexAndAge.coef_[0][0]) \n",
    "print(\"B2 coefficient is: %.6f\" % lm_sexAndAge.coef_[0][1])\n",
    "\n"
   ]
  },
  {
   "cell_type": "code",
   "execution_count": 19,
   "metadata": {},
   "outputs": [
    {
     "data": {
      "text/html": [
       "<div>\n",
       "<style>\n",
       "    .dataframe thead tr:only-child th {\n",
       "        text-align: right;\n",
       "    }\n",
       "\n",
       "    .dataframe thead th {\n",
       "        text-align: left;\n",
       "    }\n",
       "\n",
       "    .dataframe tbody tr th {\n",
       "        vertical-align: top;\n",
       "    }\n",
       "</style>\n",
       "<table border=\"1\" class=\"dataframe\">\n",
       "  <thead>\n",
       "    <tr style=\"text-align: right;\">\n",
       "      <th>Survived</th>\n",
       "      <th>0</th>\n",
       "      <th>1</th>\n",
       "    </tr>\n",
       "    <tr>\n",
       "      <th>row_0</th>\n",
       "      <th></th>\n",
       "      <th></th>\n",
       "    </tr>\n",
       "  </thead>\n",
       "  <tbody>\n",
       "    <tr>\n",
       "      <th>0</th>\n",
       "      <td>468</td>\n",
       "      <td>109</td>\n",
       "    </tr>\n",
       "    <tr>\n",
       "      <th>1</th>\n",
       "      <td>81</td>\n",
       "      <td>233</td>\n",
       "    </tr>\n",
       "  </tbody>\n",
       "</table>\n",
       "</div>"
      ],
      "text/plain": [
       "Survived    0    1\n",
       "row_0             \n",
       "0         468  109\n",
       "1          81  233"
      ]
     },
     "execution_count": 19,
     "metadata": {},
     "output_type": "execute_result"
    }
   ],
   "source": [
    "# Make predictions\n",
    "preds = lm_sexAndAge.predict(X= ageAndSexFeatures)\n",
    "\n",
    "# Generate table of predictions vs actual\n",
    "pd.crosstab(preds,train[\"Survived\"])"
   ]
  },
  {
   "cell_type": "code",
   "execution_count": 66,
   "metadata": {},
   "outputs": [
    {
     "name": "stdout",
     "output_type": "stream",
     "text": [
      "Our accurcy is:  0.788526\n"
     ]
    }
   ],
   "source": [
    "acc = ((468+233)/889)\n",
    "print(\"Our accurcy is:  %.6f\" % (acc))"
   ]
  },
  {
   "cell_type": "markdown",
   "metadata": {},
   "source": [
    "Now with gender and age parameters we have accuracy of <b>0.7885</b>. Let's expand our model further with including ticket class and cabin class."
   ]
  },
  {
   "cell_type": "markdown",
   "metadata": {},
   "source": [
    "### (Age, Gender, Cabin, Ticket Class) vs Survival"
   ]
  },
  {
   "cell_type": "code",
   "execution_count": 19,
   "metadata": {},
   "outputs": [
    {
     "name": "stdout",
     "output_type": "stream",
     "text": [
      "B0 coefficient is: 3.335464\n",
      "B1 coefficient is: -0.904453\n",
      "B2 coefficient is: -0.064257\n",
      "B3 coefficient is: -2.429551\n",
      "B4 coefficient is: -0.026709\n"
     ]
    }
   ],
   "source": [
    "# Convert more variables to numeric\n",
    "clsEnc = le.fit_transform(train[\"Pclass\"])\n",
    "\n",
    "\n",
    "ageSexCabinPlcass_features = pd.DataFrame([clsEnc,\n",
    "                              cabEnc,\n",
    "                              sexEnc,\n",
    "                              train[\"Age\"]]).T\n",
    "\n",
    "# Initialize logistic regression model\n",
    "ageSexCabinPlcass_lm = linear_model.LogisticRegression()\n",
    "\n",
    "# Train the model\n",
    "ageSexCabinPlcass_lm.fit(X = ageSexCabinPlcass_features ,\n",
    "              y = train[\"Survived\"])\n",
    "\n",
    "# Check trained model intercept\n",
    "print(\"B0 coefficient is: %.6f\" % ageSexCabinPlcass_lm.intercept_)\n",
    "\n",
    "# Check trained model coefficients\n",
    "print(\"B1 coefficient is: %.6f\" % ageSexCabinPlcass_lm.coef_[0][0]) \n",
    "print(\"B2 coefficient is: %.6f\" % ageSexCabinPlcass_lm.coef_[0][1])\n",
    "print(\"B3 coefficient is: %.6f\" % ageSexCabinPlcass_lm.coef_[0][2])\n",
    "print(\"B4 coefficient is: %.6f\" % ageSexCabinPlcass_lm.coef_[0][3])"
   ]
  },
  {
   "cell_type": "code",
   "execution_count": 23,
   "metadata": {},
   "outputs": [
    {
     "data": {
      "text/html": [
       "<div>\n",
       "<style>\n",
       "    .dataframe thead tr:only-child th {\n",
       "        text-align: right;\n",
       "    }\n",
       "\n",
       "    .dataframe thead th {\n",
       "        text-align: left;\n",
       "    }\n",
       "\n",
       "    .dataframe tbody tr th {\n",
       "        vertical-align: top;\n",
       "    }\n",
       "</style>\n",
       "<table border=\"1\" class=\"dataframe\">\n",
       "  <thead>\n",
       "    <tr style=\"text-align: right;\">\n",
       "      <th>Survived</th>\n",
       "      <th>0</th>\n",
       "      <th>1</th>\n",
       "    </tr>\n",
       "    <tr>\n",
       "      <th>row_0</th>\n",
       "      <th></th>\n",
       "      <th></th>\n",
       "    </tr>\n",
       "  </thead>\n",
       "  <tbody>\n",
       "    <tr>\n",
       "      <th>0</th>\n",
       "      <td>465</td>\n",
       "      <td>101</td>\n",
       "    </tr>\n",
       "    <tr>\n",
       "      <th>1</th>\n",
       "      <td>84</td>\n",
       "      <td>241</td>\n",
       "    </tr>\n",
       "  </tbody>\n",
       "</table>\n",
       "</div>"
      ],
      "text/plain": [
       "Survived    0    1\n",
       "row_0             \n",
       "0         465  101\n",
       "1          84  241"
      ]
     },
     "execution_count": 23,
     "metadata": {},
     "output_type": "execute_result"
    }
   ],
   "source": [
    "# Make predictions\n",
    "preds = ageSexCabinPlcass_lm.predict(X= ageSexCabinPlcass_features)\n",
    "\n",
    "# Generate table of predictions vs actual\n",
    "pd.crosstab(preds,train[\"Survived\"])"
   ]
  },
  {
   "cell_type": "code",
   "execution_count": 16,
   "metadata": {},
   "outputs": [
    {
     "name": "stdout",
     "output_type": "stream",
     "text": [
      "Our accurcy is:  0.794151\n"
     ]
    }
   ],
   "source": [
    "acc = ((465+241)/889)\n",
    "print(\"Our accurcy is:  %.6f\" % (acc))"
   ]
  }
 ],
 "metadata": {
  "kernelspec": {
   "display_name": "Python 3",
   "language": "python",
   "name": "python3"
  },
  "language_info": {
   "codemirror_mode": {
    "name": "ipython",
    "version": 3
   },
   "file_extension": ".py",
   "mimetype": "text/x-python",
   "name": "python",
   "nbconvert_exporter": "python",
   "pygments_lexer": "ipython3",
   "version": "3.6.2"
  }
 },
 "nbformat": 4,
 "nbformat_minor": 2
}
